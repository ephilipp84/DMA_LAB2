{
  "cells": [
    {
      "cell_type": "markdown",
      "metadata": {
        "id": "1j7KzW97m1lK"
      },
      "source": [
        "\n",
        "<a href=\"https://colab.research.google.com/github/Argentan/DMA_LAB2/blob/master/tutoriales/03_manejo_de_datos-pandas.ipynb\" target=\"_parent\"><img src=\"https://colab.research.google.com/assets/colab-badge.svg\" alt=\"Open In Colab\"/></a>\n"
      ]
    },
    {
      "cell_type": "markdown",
      "metadata": {
        "id": "3qVsN-3jm1lM"
      },
      "source": [
        "## Libreria Pandas\n",
        "\n",
        "Pandas es la libreria mas utilizada para la manipulación de datos, utiliza series y dataframes que son estrtucturas de datos columnares, de una o dos dimensiones"
      ]
    },
    {
      "cell_type": "code",
      "execution_count": 1,
      "metadata": {
        "id": "jaBYZJdqm1lN"
      },
      "outputs": [],
      "source": [
        "import pandas as pd"
      ]
    },
    {
      "cell_type": "markdown",
      "metadata": {
        "id": "bdpRmw7Sm1lS"
      },
      "source": [
        "## Series\n",
        "\n",
        "Son columnas de datos con indices"
      ]
    },
    {
      "cell_type": "code",
      "execution_count": null,
      "metadata": {
        "id": "2sP_-5W7m1lT"
      },
      "outputs": [],
      "source": [
        "obj = pd.Series([4, 7, -5, 3, 5])\n",
        "obj"
      ]
    },
    {
      "cell_type": "code",
      "execution_count": null,
      "metadata": {
        "id": "PlM8HeDbm1lY"
      },
      "outputs": [],
      "source": [
        "animales = ['Tortuga', 'Zorro', 'Paloma', 'Elefante', \"Zorro\"]\n",
        "tipo = ['reptil', 'mamífero', 'ave', 'mamífero', 'mamífero' ]\n",
        "obj = pd.Series(tipo, index=animales)\n",
        "obj"
      ]
    },
    {
      "cell_type": "code",
      "execution_count": null,
      "metadata": {
        "id": "3yteUcyPm1lb"
      },
      "outputs": [],
      "source": [
        "animales = ['Tortuga', 'Zorro', 'Paloma', 'Elefante', \"Zorro\" ]\n",
        "tipo = ['reptil', 'mamífero', 'ave', 'mamífero', 'mamífero' ]\n",
        "obj = pd.Series(tipo)\n",
        "obj.index = animales\n",
        "obj"
      ]
    },
    {
      "cell_type": "code",
      "execution_count": null,
      "metadata": {
        "id": "wrfsgUYCm1lf"
      },
      "outputs": [],
      "source": [
        "obj[\"Tortuga\"]"
      ]
    },
    {
      "cell_type": "code",
      "execution_count": null,
      "metadata": {
        "id": "tdhPwO0Nm1lj"
      },
      "outputs": [],
      "source": [
        "obj[0]"
      ]
    },
    {
      "cell_type": "code",
      "execution_count": null,
      "metadata": {
        "id": "z0HARN96m1ln"
      },
      "outputs": [],
      "source": [
        "obj.sort_values()[0]"
      ]
    },
    {
      "cell_type": "code",
      "execution_count": null,
      "metadata": {
        "id": "YdIqZg3cm1ls"
      },
      "outputs": [],
      "source": [
        "obj.sort_values()[\"Tortuga\"]"
      ]
    },
    {
      "cell_type": "markdown",
      "metadata": {
        "id": "QScH6Clcm1lv"
      },
      "source": [
        "## DataFrames\n",
        "\n",
        "Son estructuras de dos dimensiones, pueden pensarse como la contatenación horizontal de series. "
      ]
    },
    {
      "cell_type": "code",
      "execution_count": null,
      "metadata": {
        "id": "_6Q-2dZlm1lw"
      },
      "outputs": [],
      "source": [
        "d = {'tipo_vivienda': ['casa', 'departamento'],\n",
        "     'm2': [125, 59],\n",
        "     'Barrio': ['San Martin', 'Florida'],\n",
        "     'Precio (kUSD)': [200, 130]\n",
        "    }\n",
        "df = pd.DataFrame(data=d, index=[\"casa1\", \"casa2\"])\n",
        "df"
      ]
    },
    {
      "cell_type": "markdown",
      "metadata": {
        "id": "TaH2dcsnm1l0"
      },
      "source": [
        "## Lectura de archivos de datos\n",
        "\n",
        "\n",
        "Pandas soporta la lectura de una amplia cantidad de formatos ([más info](http://pandas.pydata.org/pandas-docs/stable/io.html)): \n",
        "\n",
        "- read_csv\n",
        "- read_excel\n",
        "- read_hdf\n",
        "- read_sql\n",
        "- read_json\n",
        "- read_msgpack (experimental)\n",
        "- read_html\n",
        "- read_gbq (experimental)\n",
        "- read_stata\n",
        "- read_sas\n",
        "- read_clipboard\n",
        "- read_pickle\n",
        "\n",
        "Vamos a empezar a probar con una dataset publicado para una competencia de kaggle: [Titanic: Machine Learning from Disaster](https://www.kaggle.com/c/titanic/data)."
      ]
    },
    {
      "cell_type": "code",
      "execution_count": null,
      "metadata": {
        "id": "AMJMP_8jm1l4"
      },
      "outputs": [],
      "source": [
        "data = pd.read_csv(\"https://raw.githubusercontent.com/Argentan/DMA_LAB2/master/data/titanic.csv\", index_col=\"PassengerId\")\n"
      ]
    },
    {
      "cell_type": "code",
      "execution_count": null,
      "metadata": {
        "id": "BQk6uUkAnT_z"
      },
      "outputs": [],
      "source": [
        "data.head()"
      ]
    },
    {
      "cell_type": "code",
      "execution_count": null,
      "metadata": {
        "id": "BAFccORxm1mH"
      },
      "outputs": [],
      "source": [
        "data.tail()"
      ]
    },
    {
      "cell_type": "code",
      "execution_count": null,
      "metadata": {
        "id": "O87wevx9m1mK"
      },
      "outputs": [],
      "source": [
        "data.columns"
      ]
    },
    {
      "cell_type": "code",
      "execution_count": null,
      "metadata": {
        "id": "apqBCUDFm1mO"
      },
      "outputs": [],
      "source": [
        "data.dtypes"
      ]
    },
    {
      "cell_type": "code",
      "execution_count": null,
      "metadata": {
        "id": "PJVLnVKQm1mR",
        "tags": []
      },
      "outputs": [],
      "source": [
        "data.info()"
      ]
    },
    {
      "cell_type": "code",
      "execution_count": null,
      "metadata": {
        "id": "Ek99MhnZm1mU"
      },
      "outputs": [],
      "source": [
        "data.describe()"
      ]
    },
    {
      "cell_type": "code",
      "execution_count": null,
      "metadata": {
        "id": "nCdLTKhnm1mX"
      },
      "outputs": [],
      "source": [
        "data.shape"
      ]
    },
    {
      "cell_type": "code",
      "execution_count": null,
      "metadata": {
        "id": "v9mCxV_1m1ma"
      },
      "outputs": [],
      "source": [
        "data.size"
      ]
    },
    {
      "cell_type": "code",
      "execution_count": null,
      "metadata": {
        "id": "dtTFrArVm1me"
      },
      "outputs": [],
      "source": [
        "data.Pclass"
      ]
    },
    {
      "cell_type": "code",
      "execution_count": null,
      "metadata": {
        "id": "AsSvSqiEm1mi"
      },
      "outputs": [],
      "source": [
        "data.Pclass.unique()"
      ]
    },
    {
      "cell_type": "code",
      "execution_count": null,
      "metadata": {
        "id": "JAY9j6vSm1mm"
      },
      "outputs": [],
      "source": [
        "data.Pclass.value_counts()"
      ]
    },
    {
      "cell_type": "code",
      "execution_count": null,
      "metadata": {
        "id": "V8BKOBBjm1mp"
      },
      "outputs": [],
      "source": [
        "data.Pclass.nunique()"
      ]
    },
    {
      "cell_type": "markdown",
      "metadata": {
        "id": "DtLTIZ0vm1mr"
      },
      "source": [
        "## Tipos de Indexado\n",
        "\n",
        "Hay varias formas de seleccionar un subconjunto de los datos:\n",
        "\n",
        "- Como las listas o arrays, por posición.\n",
        "- Como los diccionarios, por llave o etiqueta.\n",
        "- Como los arrays, por máscaras de verdadero o falso.\n",
        "- Se puede indexar por número, rango o lista (array)\n",
        "- Todos estos métodos pueden funcionar subconjunto como en las columnas\n",
        "\n",
        "\n",
        "## Reglas Básicas\n",
        "\n",
        "1. Se usan corchetes (abreviatura para el método `__getitem__`) para seleccionar columnas de un `DataFrame`\n",
        "\n",
        "    ```python\n",
        "    >>> df[['a', 'b', 'c']]\n",
        "    ```\n",
        "\n",
        "2. Se usa `.iloc` para indexar por posición (tanto filas como columnas)\n",
        "\n",
        "    ```python\n",
        "    >>> df.iloc[[1, 3], [0, 2]]\n",
        "    ```\n",
        "    \n",
        "3. Se usa `.loc` para indexar por etiquetas (tanto filas como columnas)\n",
        "\n",
        "    ```python\n",
        "    >>> df.loc[[\"elemento1\", \"elemento2\", \"elemento3\"], [\"columna1\", \"columna2\"]]\n",
        "    ```"
      ]
    },
    {
      "cell_type": "code",
      "execution_count": null,
      "metadata": {
        "id": "1jZXhiXXm1ms"
      },
      "outputs": [],
      "source": [
        "data.__getitem__(\"Name\") == data[\"Name\"]"
      ]
    },
    {
      "cell_type": "code",
      "execution_count": null,
      "metadata": {
        "id": "h1EyPq1Xm1mw"
      },
      "outputs": [],
      "source": [
        "data[\"Name\"]"
      ]
    },
    {
      "cell_type": "code",
      "execution_count": null,
      "metadata": {
        "id": "ONM_XsW_m1m1"
      },
      "outputs": [],
      "source": [
        "data.loc[[1], [\"Name\", \"Sex\"]]"
      ]
    },
    {
      "cell_type": "code",
      "execution_count": null,
      "metadata": {
        "id": "eSgiiVSem1m4"
      },
      "outputs": [],
      "source": [
        "data.loc[[1, 2, 3]]"
      ]
    },
    {
      "cell_type": "code",
      "execution_count": null,
      "metadata": {
        "id": "FfNGrI--m1m7"
      },
      "outputs": [],
      "source": [
        "data.loc[[1, 2, 3], \"Name\"]"
      ]
    },
    {
      "cell_type": "code",
      "execution_count": null,
      "metadata": {
        "id": "s95l6VZVm1m-"
      },
      "outputs": [],
      "source": [
        "data.loc[1, \"Survived\"]"
      ]
    },
    {
      "cell_type": "code",
      "execution_count": null,
      "metadata": {
        "id": "o7wXe5X0m1nD"
      },
      "outputs": [],
      "source": [
        "temp = data.loc[:, [\"Name\", \"Sex\"]]\n",
        "temp.loc[1, \"Name\"] = \"Rafa\"\n",
        "temp"
      ]
    },
    {
      "cell_type": "code",
      "execution_count": null,
      "metadata": {
        "id": "UbNEzQUkm1nH"
      },
      "outputs": [],
      "source": [
        "data.loc[1, \"Name\"], temp.loc[1, \"Name\"]"
      ]
    },
    {
      "cell_type": "code",
      "execution_count": null,
      "metadata": {
        "id": "vwJ3piqnm1nK"
      },
      "outputs": [],
      "source": [
        "temp = data.copy()\n",
        "temp.index = [\"pasajero_nro_\" + str(i) for i in temp.index]\n",
        "temp.index.name =data.index.name\n",
        "temp\n"
      ]
    },
    {
      "cell_type": "code",
      "execution_count": null,
      "metadata": {
        "id": "6F7XQSYjm1nN"
      },
      "outputs": [],
      "source": [
        "data.loc[1]"
      ]
    },
    {
      "cell_type": "code",
      "execution_count": null,
      "metadata": {
        "id": "-61DVWOim1nQ"
      },
      "outputs": [],
      "source": [
        "data.loc[\"1\"]"
      ]
    },
    {
      "cell_type": "code",
      "execution_count": null,
      "metadata": {
        "id": "A0c6MRsJm1nY"
      },
      "outputs": [],
      "source": [
        "temp.loc[[\"pasajero_nro_1\", \"pasajero_nro_2\", \"pasajero_nro_3\"], [\"Name\", \"Sex\"]]"
      ]
    },
    {
      "cell_type": "code",
      "execution_count": null,
      "metadata": {
        "id": "2vngFseqm1nc"
      },
      "outputs": [],
      "source": [
        "temp.iloc[[1, 2, 3], [2, 3]]"
      ]
    },
    {
      "cell_type": "code",
      "execution_count": null,
      "metadata": {
        "id": "KwrnUZmhm1ng"
      },
      "outputs": [],
      "source": [
        "del temp"
      ]
    },
    {
      "cell_type": "code",
      "execution_count": null,
      "metadata": {
        "id": "MmkIceXBm1nj"
      },
      "outputs": [],
      "source": [
        "data.loc[:3, :\"Sex\"]"
      ]
    },
    {
      "cell_type": "code",
      "execution_count": null,
      "metadata": {
        "id": "TZfHm5d4m1nn"
      },
      "outputs": [],
      "source": [
        "data.sort_values(\"Name\").loc[:3]"
      ]
    },
    {
      "cell_type": "markdown",
      "metadata": {
        "id": "CG1A9N19m1nu"
      },
      "source": [
        "## Calculo de columnas nuevas"
      ]
    },
    {
      "cell_type": "code",
      "execution_count": null,
      "metadata": {
        "id": "RRPiRjXQm1nv"
      },
      "outputs": [],
      "source": [
        "temp = data[[\"Name\"]].copy()\n",
        "temp.OtroNombre = [\"OTRO_\" + n for n in data.Name]\n",
        "temp"
      ]
    },
    {
      "cell_type": "code",
      "execution_count": null,
      "metadata": {
        "id": "IBxV5UFvm1n0"
      },
      "outputs": [],
      "source": [
        "temp.OtroNombre[:10]"
      ]
    },
    {
      "cell_type": "code",
      "execution_count": null,
      "metadata": {
        "id": "XFCZOJUcm1n4"
      },
      "outputs": [],
      "source": [
        "temp[\"OtroNombre\"] = [\"OTRO_\" + n for n in data.Name]\n",
        "temp"
      ]
    },
    {
      "cell_type": "code",
      "execution_count": null,
      "metadata": {
        "id": "pYYiAfmsm1n9"
      },
      "outputs": [],
      "source": [
        "del temp"
      ]
    },
    {
      "cell_type": "markdown",
      "metadata": {
        "id": "P3sx_B2om1oA"
      },
      "source": [
        "## Filtrado"
      ]
    },
    {
      "cell_type": "code",
      "execution_count": null,
      "metadata": {
        "id": "bcL7PKpcm1oB"
      },
      "outputs": [],
      "source": [
        "data[\"SibSp\"] > 0"
      ]
    },
    {
      "cell_type": "code",
      "execution_count": null,
      "metadata": {
        "id": "zjinVufgm1oF"
      },
      "outputs": [],
      "source": [
        "data[data[\"Age\"] > 18]"
      ]
    },
    {
      "cell_type": "code",
      "execution_count": null,
      "metadata": {
        "id": "2GtmdyEkm1oL"
      },
      "outputs": [],
      "source": [
        "data.select_dtypes(\"float\")"
      ]
    },
    {
      "cell_type": "markdown",
      "metadata": {
        "id": "_0tCH73-m1oP"
      },
      "source": [
        "### Funciones comunes\n",
        "\n",
        "Pandas ya viene con una cantidad de funciones incorporadas, por ejemplo:\n",
        "\n",
        "* sum\n",
        "* mean\n",
        "* std\n",
        "* var\n",
        "* cumsum\n",
        "* value_counts()"
      ]
    },
    {
      "cell_type": "code",
      "execution_count": null,
      "metadata": {
        "id": "jwMjny0Dm1oQ"
      },
      "outputs": [],
      "source": [
        "data.Age.mean()"
      ]
    },
    {
      "cell_type": "code",
      "execution_count": null,
      "metadata": {
        "id": "YMWE_8G8m1oT"
      },
      "outputs": [],
      "source": [
        "data.mean()"
      ]
    },
    {
      "cell_type": "code",
      "execution_count": null,
      "metadata": {
        "id": "lFMh-q23m1oZ"
      },
      "outputs": [],
      "source": [
        "data.sum()"
      ]
    },
    {
      "cell_type": "code",
      "execution_count": null,
      "metadata": {
        "id": "dA6ROsAam1od"
      },
      "outputs": [],
      "source": [
        "data.select_dtypes(\"float\").sum(axis=1)"
      ]
    },
    {
      "cell_type": "code",
      "execution_count": null,
      "metadata": {
        "id": "7HbQ5t1Dm1ol"
      },
      "outputs": [],
      "source": [
        "data.Age.cumsum()"
      ]
    },
    {
      "cell_type": "code",
      "execution_count": null,
      "metadata": {
        "id": "J6ZN1rB8m1op"
      },
      "outputs": [],
      "source": [
        "data.isnull().sum()"
      ]
    },
    {
      "cell_type": "code",
      "execution_count": null,
      "metadata": {
        "id": "PU_G_vYym1ot"
      },
      "outputs": [],
      "source": [
        "data.Survived.value_counts()"
      ]
    },
    {
      "cell_type": "code",
      "execution_count": null,
      "metadata": {
        "id": "xc2ZDqBOm1ox"
      },
      "outputs": [],
      "source": [
        "data.Survived.value_counts(True)"
      ]
    },
    {
      "cell_type": "code",
      "execution_count": null,
      "metadata": {
        "id": "O3M3yk7Tm1o3"
      },
      "outputs": [],
      "source": [
        "data.Survived.value_counts(1)"
      ]
    },
    {
      "cell_type": "markdown",
      "metadata": {
        "id": "bKo-ChgDm1o6"
      },
      "source": [
        "### Ejercicio\n",
        "\n",
        "1. Mostrar las primeras 16 files de data"
      ]
    },
    {
      "cell_type": "code",
      "execution_count": null,
      "metadata": {
        "id": "3c2Od9Fxm1o6"
      },
      "outputs": [],
      "source": []
    },
    {
      "cell_type": "markdown",
      "metadata": {
        "id": "7pNAfWpAoXeX"
      },
      "source": [
        "\n",
        "2. ¿Cómo se llama el pasajero 881?"
      ]
    },
    {
      "cell_type": "code",
      "execution_count": null,
      "metadata": {
        "id": "3bAaTFjToioO"
      },
      "outputs": [],
      "source": []
    },
    {
      "cell_type": "markdown",
      "metadata": {
        "id": "kAZZ6E-0oW8R"
      },
      "source": [
        "\n",
        "3. Calcular una columna numFam que sea la suma de la cantidad de familiares en el barco"
      ]
    },
    {
      "cell_type": "code",
      "execution_count": null,
      "metadata": {
        "id": "Xptd2FSmqPyx"
      },
      "outputs": [],
      "source": []
    },
    {
      "cell_type": "markdown",
      "metadata": {
        "id": "33OfNxwfoWLZ"
      },
      "source": [
        "\n",
        "4. Encontrar la edad media de los sobrevivientes"
      ]
    },
    {
      "cell_type": "code",
      "execution_count": null,
      "metadata": {
        "id": "sRmxb_i1ojZ3"
      },
      "outputs": [],
      "source": []
    }
  ],
  "metadata": {
    "colab": {
      "name": "03_manejo_de_datos-pandas.ipynb",
      "provenance": []
    },
    "kernelspec": {
      "display_name": "Python 3",
      "name": "python3"
    },
    "language_info": {
      "codemirror_mode": {
        "name": "ipython",
        "version": 3
      },
      "file_extension": ".py",
      "mimetype": "text/x-python",
      "name": "python",
      "nbconvert_exporter": "python",
      "pygments_lexer": "ipython3",
      "version": "3.7.9-final"
    },
    "orig_nbformat": 2
  },
  "nbformat": 4,
  "nbformat_minor": 0
}
